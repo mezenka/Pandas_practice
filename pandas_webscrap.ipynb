{
  "nbformat": 4,
  "nbformat_minor": 0,
  "metadata": {
    "colab": {
      "provenance": [],
      "authorship_tag": "ABX9TyM6sFWAjb8NAybLQ74C/Qtl",
      "include_colab_link": true
    },
    "kernelspec": {
      "name": "python3",
      "display_name": "Python 3"
    },
    "language_info": {
      "name": "python"
    }
  },
  "cells": [
    {
      "cell_type": "markdown",
      "metadata": {
        "id": "view-in-github",
        "colab_type": "text"
      },
      "source": [
        "<a href=\"https://colab.research.google.com/github/mezenka/Pandas_practice/blob/main/pandas_webscrap.ipynb\" target=\"_parent\"><img src=\"https://colab.research.google.com/assets/colab-badge.svg\" alt=\"Open In Colab\"/></a>"
      ]
    },
    {
      "cell_type": "markdown",
      "source": [
        "## **Webscraping using Pandas**"
      ],
      "metadata": {
        "id": "IYtREloSh79r"
      }
    },
    {
      "cell_type": "code",
      "execution_count": null,
      "metadata": {
        "id": "yPfJZYJhh7Rj"
      },
      "outputs": [],
      "source": [
        "import pandas as pd\n",
        "import requests\n",
        "from bs4 import BeautifulSoup"
      ]
    },
    {
      "cell_type": "code",
      "source": [
        "# getting the url and setting up parser\n",
        "\n",
        "url = 'https://en.wikipedia.org/wiki/list_of_largest_companies_in_the_United_States_by_revenue'\n",
        "\n",
        "page = requests.get(url)\n",
        "\n",
        "soup = BeautifulSoup(page.text, 'html.parser')"
      ],
      "metadata": {
        "id": "7_q9Zq9Hx3FH"
      },
      "execution_count": null,
      "outputs": []
    },
    {
      "cell_type": "code",
      "source": [
        "print(soup)"
      ],
      "metadata": {
        "id": "zMnYf6UyyhQ-"
      },
      "execution_count": null,
      "outputs": []
    },
    {
      "cell_type": "code",
      "source": [
        "# looking for tables on the page\n",
        "soup.find('table')"
      ],
      "metadata": {
        "id": "U8_GjH-cy3pg"
      },
      "execution_count": null,
      "outputs": []
    },
    {
      "cell_type": "code",
      "source": [
        "# selecting the necessary table\n",
        "soup.find_all('table')[1]"
      ],
      "metadata": {
        "id": "cTbWPdG-KjSN"
      },
      "execution_count": null,
      "outputs": []
    },
    {
      "cell_type": "code",
      "source": [
        "soup.find('table', class_ = 'wikitable sortable')"
      ],
      "metadata": {
        "id": "cdXJiefXLxUc"
      },
      "execution_count": null,
      "outputs": []
    },
    {
      "cell_type": "code",
      "source": [
        "table = soup.find_all('table')[1]\n",
        "print(table)"
      ],
      "metadata": {
        "id": "-sPmrfJiMiMf"
      },
      "execution_count": null,
      "outputs": []
    },
    {
      "cell_type": "code",
      "source": [
        "type(table)"
      ],
      "metadata": {
        "colab": {
          "base_uri": "https://localhost:8080/"
        },
        "id": "BiA83LCQaY3p",
        "outputId": "8f943f58-d8ab-4f85-8f2c-69643ea74393"
      },
      "execution_count": null,
      "outputs": [
        {
          "output_type": "execute_result",
          "data": {
            "text/plain": [
              "bs4.element.Tag"
            ]
          },
          "metadata": {},
          "execution_count": 26
        }
      ]
    },
    {
      "cell_type": "code",
      "source": [
        "# columns are marked with 'th'\n",
        "soup.find_all('th')"
      ],
      "metadata": {
        "id": "hvMPU_s2NO3N"
      },
      "execution_count": null,
      "outputs": []
    },
    {
      "cell_type": "code",
      "source": [
        "# getting the column names\n",
        "world_titles = table.find_all('th')\n",
        "table_titles = [title.text.strip() for title in world_titles]\n",
        "print(table_titles)"
      ],
      "metadata": {
        "colab": {
          "base_uri": "https://localhost:8080/"
        },
        "id": "IA4MTbZ5OB6B",
        "outputId": "79360577-19dc-41e6-e7b5-be38820879e6"
      },
      "execution_count": null,
      "outputs": [
        {
          "output_type": "stream",
          "name": "stdout",
          "text": [
            "['Rank', 'Name', 'Industry', 'Revenue (USD millions)', 'Revenue growth', 'Employees', 'Headquarters']\n"
          ]
        }
      ]
    },
    {
      "cell_type": "code",
      "source": [
        "# preparing dataframe for the table data\n",
        "df = pd.DataFrame(columns = table_titles)\n",
        "df"
      ],
      "metadata": {
        "colab": {
          "base_uri": "https://localhost:8080/",
          "height": 49
        },
        "id": "-2aGMPA7Zd_4",
        "outputId": "bf810347-9302-45ec-9626-872e469f2022"
      },
      "execution_count": null,
      "outputs": [
        {
          "output_type": "execute_result",
          "data": {
            "text/plain": [
              "Empty DataFrame\n",
              "Columns: [Rank, Name, Industry, Revenue (USD millions), Revenue growth, Employees, Headquarters]\n",
              "Index: []"
            ],
            "text/html": [
              "\n",
              "\n",
              "  <div id=\"df-e482af7e-9aee-4b61-85e1-e3951c79adc1\">\n",
              "    <div class=\"colab-df-container\">\n",
              "      <div>\n",
              "<style scoped>\n",
              "    .dataframe tbody tr th:only-of-type {\n",
              "        vertical-align: middle;\n",
              "    }\n",
              "\n",
              "    .dataframe tbody tr th {\n",
              "        vertical-align: top;\n",
              "    }\n",
              "\n",
              "    .dataframe thead th {\n",
              "        text-align: right;\n",
              "    }\n",
              "</style>\n",
              "<table border=\"1\" class=\"dataframe\">\n",
              "  <thead>\n",
              "    <tr style=\"text-align: right;\">\n",
              "      <th></th>\n",
              "      <th>Rank</th>\n",
              "      <th>Name</th>\n",
              "      <th>Industry</th>\n",
              "      <th>Revenue (USD millions)</th>\n",
              "      <th>Revenue growth</th>\n",
              "      <th>Employees</th>\n",
              "      <th>Headquarters</th>\n",
              "    </tr>\n",
              "  </thead>\n",
              "  <tbody>\n",
              "  </tbody>\n",
              "</table>\n",
              "</div>\n",
              "      <button class=\"colab-df-convert\" onclick=\"convertToInteractive('df-e482af7e-9aee-4b61-85e1-e3951c79adc1')\"\n",
              "              title=\"Convert this dataframe to an interactive table.\"\n",
              "              style=\"display:none;\">\n",
              "\n",
              "  <svg xmlns=\"http://www.w3.org/2000/svg\" height=\"24px\"viewBox=\"0 0 24 24\"\n",
              "       width=\"24px\">\n",
              "    <path d=\"M0 0h24v24H0V0z\" fill=\"none\"/>\n",
              "    <path d=\"M18.56 5.44l.94 2.06.94-2.06 2.06-.94-2.06-.94-.94-2.06-.94 2.06-2.06.94zm-11 1L8.5 8.5l.94-2.06 2.06-.94-2.06-.94L8.5 2.5l-.94 2.06-2.06.94zm10 10l.94 2.06.94-2.06 2.06-.94-2.06-.94-.94-2.06-.94 2.06-2.06.94z\"/><path d=\"M17.41 7.96l-1.37-1.37c-.4-.4-.92-.59-1.43-.59-.52 0-1.04.2-1.43.59L10.3 9.45l-7.72 7.72c-.78.78-.78 2.05 0 2.83L4 21.41c.39.39.9.59 1.41.59.51 0 1.02-.2 1.41-.59l7.78-7.78 2.81-2.81c.8-.78.8-2.07 0-2.86zM5.41 20L4 18.59l7.72-7.72 1.47 1.35L5.41 20z\"/>\n",
              "  </svg>\n",
              "      </button>\n",
              "\n",
              "\n",
              "\n",
              "    <div id=\"df-1f47d29c-0864-47e7-b947-c64e7a8e6e1f\">\n",
              "      <button class=\"colab-df-quickchart\" onclick=\"quickchart('df-1f47d29c-0864-47e7-b947-c64e7a8e6e1f')\"\n",
              "              title=\"Suggest charts.\"\n",
              "              style=\"display:none;\">\n",
              "\n",
              "<svg xmlns=\"http://www.w3.org/2000/svg\" height=\"24px\"viewBox=\"0 0 24 24\"\n",
              "     width=\"24px\">\n",
              "    <g>\n",
              "        <path d=\"M19 3H5c-1.1 0-2 .9-2 2v14c0 1.1.9 2 2 2h14c1.1 0 2-.9 2-2V5c0-1.1-.9-2-2-2zM9 17H7v-7h2v7zm4 0h-2V7h2v10zm4 0h-2v-4h2v4z\"/>\n",
              "    </g>\n",
              "</svg>\n",
              "      </button>\n",
              "    </div>\n",
              "\n",
              "<style>\n",
              "  .colab-df-quickchart {\n",
              "    background-color: #E8F0FE;\n",
              "    border: none;\n",
              "    border-radius: 50%;\n",
              "    cursor: pointer;\n",
              "    display: none;\n",
              "    fill: #1967D2;\n",
              "    height: 32px;\n",
              "    padding: 0 0 0 0;\n",
              "    width: 32px;\n",
              "  }\n",
              "\n",
              "  .colab-df-quickchart:hover {\n",
              "    background-color: #E2EBFA;\n",
              "    box-shadow: 0px 1px 2px rgba(60, 64, 67, 0.3), 0px 1px 3px 1px rgba(60, 64, 67, 0.15);\n",
              "    fill: #174EA6;\n",
              "  }\n",
              "\n",
              "  [theme=dark] .colab-df-quickchart {\n",
              "    background-color: #3B4455;\n",
              "    fill: #D2E3FC;\n",
              "  }\n",
              "\n",
              "  [theme=dark] .colab-df-quickchart:hover {\n",
              "    background-color: #434B5C;\n",
              "    box-shadow: 0px 1px 3px 1px rgba(0, 0, 0, 0.15);\n",
              "    filter: drop-shadow(0px 1px 2px rgba(0, 0, 0, 0.3));\n",
              "    fill: #FFFFFF;\n",
              "  }\n",
              "</style>\n",
              "\n",
              "    <script>\n",
              "      async function quickchart(key) {\n",
              "        const containerElement = document.querySelector('#' + key);\n",
              "        const charts = await google.colab.kernel.invokeFunction(\n",
              "            'suggestCharts', [key], {});\n",
              "      }\n",
              "    </script>\n",
              "\n",
              "      <script>\n",
              "\n",
              "function displayQuickchartButton(domScope) {\n",
              "  let quickchartButtonEl =\n",
              "    domScope.querySelector('#df-1f47d29c-0864-47e7-b947-c64e7a8e6e1f button.colab-df-quickchart');\n",
              "  quickchartButtonEl.style.display =\n",
              "    google.colab.kernel.accessAllowed ? 'block' : 'none';\n",
              "}\n",
              "\n",
              "        displayQuickchartButton(document);\n",
              "      </script>\n",
              "      <style>\n",
              "    .colab-df-container {\n",
              "      display:flex;\n",
              "      flex-wrap:wrap;\n",
              "      gap: 12px;\n",
              "    }\n",
              "\n",
              "    .colab-df-convert {\n",
              "      background-color: #E8F0FE;\n",
              "      border: none;\n",
              "      border-radius: 50%;\n",
              "      cursor: pointer;\n",
              "      display: none;\n",
              "      fill: #1967D2;\n",
              "      height: 32px;\n",
              "      padding: 0 0 0 0;\n",
              "      width: 32px;\n",
              "    }\n",
              "\n",
              "    .colab-df-convert:hover {\n",
              "      background-color: #E2EBFA;\n",
              "      box-shadow: 0px 1px 2px rgba(60, 64, 67, 0.3), 0px 1px 3px 1px rgba(60, 64, 67, 0.15);\n",
              "      fill: #174EA6;\n",
              "    }\n",
              "\n",
              "    [theme=dark] .colab-df-convert {\n",
              "      background-color: #3B4455;\n",
              "      fill: #D2E3FC;\n",
              "    }\n",
              "\n",
              "    [theme=dark] .colab-df-convert:hover {\n",
              "      background-color: #434B5C;\n",
              "      box-shadow: 0px 1px 3px 1px rgba(0, 0, 0, 0.15);\n",
              "      filter: drop-shadow(0px 1px 2px rgba(0, 0, 0, 0.3));\n",
              "      fill: #FFFFFF;\n",
              "    }\n",
              "  </style>\n",
              "\n",
              "      <script>\n",
              "        const buttonEl =\n",
              "          document.querySelector('#df-e482af7e-9aee-4b61-85e1-e3951c79adc1 button.colab-df-convert');\n",
              "        buttonEl.style.display =\n",
              "          google.colab.kernel.accessAllowed ? 'block' : 'none';\n",
              "\n",
              "        async function convertToInteractive(key) {\n",
              "          const element = document.querySelector('#df-e482af7e-9aee-4b61-85e1-e3951c79adc1');\n",
              "          const dataTable =\n",
              "            await google.colab.kernel.invokeFunction('convertToInteractive',\n",
              "                                                     [key], {});\n",
              "          if (!dataTable) return;\n",
              "\n",
              "          const docLinkHtml = 'Like what you see? Visit the ' +\n",
              "            '<a target=\"_blank\" href=https://colab.research.google.com/notebooks/data_table.ipynb>data table notebook</a>'\n",
              "            + ' to learn more about interactive tables.';\n",
              "          element.innerHTML = '';\n",
              "          dataTable['output_type'] = 'display_data';\n",
              "          await google.colab.output.renderOutput(dataTable, element);\n",
              "          const docLink = document.createElement('div');\n",
              "          docLink.innerHTML = docLinkHtml;\n",
              "          element.appendChild(docLink);\n",
              "        }\n",
              "      </script>\n",
              "    </div>\n",
              "  </div>\n"
            ]
          },
          "metadata": {},
          "execution_count": 35
        }
      ]
    },
    {
      "cell_type": "code",
      "source": [
        "# studying the web page with 'Inspect (Q)' it appears that\n",
        "# <tr> - rows, <td> - cells in rows\n",
        "column_data = table.find_all('tr')"
      ],
      "metadata": {
        "id": "XSKInM6_b2Yt"
      },
      "execution_count": null,
      "outputs": []
    },
    {
      "cell_type": "code",
      "source": [
        "# pulling the data from row cells\n",
        "for row in column_data:\n",
        "  row_data = row.find_all('td')\n",
        "  ind_row_data = [data.text.strip() for data in row_data]\n",
        "  print(ind_row_data)"
      ],
      "metadata": {
        "colab": {
          "base_uri": "https://localhost:8080/"
        },
        "id": "FTxy2MIdrHHH",
        "outputId": "f704969a-60f3-4158-9f2a-10d83bc76060"
      },
      "execution_count": null,
      "outputs": [
        {
          "output_type": "stream",
          "name": "stdout",
          "text": [
            "[]\n",
            "['1', 'Walmart', 'General merchandisers', '572,754', '2.4%', '2,300,000', 'Bentonville, Arkansas']\n",
            "['2', 'Amazon', 'Retail and Cloud Computing', '469,822', '21.7%', '1,608,000', 'Seattle, Washington']\n",
            "['3', 'Apple', 'Electronics industry', '365,817', '33.2%', '154,000', 'Cupertino, California']\n",
            "['4', 'CVS Health', 'Healthcare', '292,111', '32.0%', '258,000', 'Woonsocket, Rhode Island']\n",
            "['5', 'UnitedHealth Group', 'Healthcare', '287,597', '11.8%', '350,000', 'Minnetonka, Minnesota']\n",
            "['6', 'Exxon Mobil', 'Petroleum industry', '285,640', '57.4%', '63,000', 'Spring, Texas']\n",
            "['7', 'Berkshire Hathaway', 'Conglomerate', '276,094', '12.5%', '372,000', 'Omaha, Nebraska']\n",
            "['8', 'Alphabet', 'Technology', '257,637', '41.2%', '156,000', 'Mountain View, California']\n",
            "['9', 'McKesson Corporation', 'Health', '238,228', '3.1%', '67,500', 'Irving, Texas']\n",
            "['10', 'AmerisourceBergen', 'Pharmaceutical industry', '213,989', '12.7%', '40,000', 'Chesterbrook, Pennsylvania']\n",
            "['11', 'Microsoft', 'Technology', '198,087', '17.5%', '181,000', 'Redmond, Washington']\n",
            "['12', 'Costco', 'Retail', '195,929', '17.5%', '288,000', 'Issaquah, Washington']\n",
            "['13', 'Cigna', 'Health Insurance', '174,078', '8.5%', '72,963', 'Bloomfield, Connecticut']\n",
            "['14', 'AT&T', 'Conglomerate', '168,864', '1.7%', '202,600', 'Dallas, Texas']\n",
            "['15', 'Cardinal Health', 'Healthcare', '162,467', '6.2%', '46,827', 'Dublin, Ohio']\n",
            "['16', 'Chevron Corporation', 'Petroleum industry', '162,465', '71.6%', '42,595', 'San Ramon, California']\n",
            "['17', 'The Home Depot', 'Retail', '151,157', '14.4%', '490,600', 'Atlanta, Georgia']\n",
            "['18', 'Walgreens Boots Alliance', 'Pharmaceutical industry', '148,579', '6.5%', '258,500', 'Deerfield, Illinois']\n",
            "['19', 'Marathon Petroleum', 'Petroleum industry', '141,032', '58.5%', '17,700', 'Findlay, Ohio']\n",
            "['20', 'Elevance Health', 'Healthcare', '138,639', '13.8%', '98,200', 'Indianapolis, Indiana']\n",
            "['21', 'Kroger', 'Retail', '137,888', '4.1%', '420,000', 'Cincinnati, Ohio']\n",
            "['22', 'Ford Motor Company', 'Automotive industry', '136,341', '7.2%', '183,000', 'Dearborn, Michigan']\n",
            "['23', 'Verizon Communications', 'Telecommunications', '133,613', '4.1%', '118,400', 'New York City, New York']\n",
            "['24', 'JPMorgan Chase', 'Financial services', '127,202', '1.8%', '271,025', 'New York City, New York']\n",
            "['25', 'General Motors', 'Automotive', '127,004', '3.7%', '157,000', 'Detroit, Michigan']\n",
            "['26', 'Centene', 'Healthcare', '125,982', '13.4%', '72,500', 'St. Louis, Missouri']\n",
            "['27', 'Meta Platforms', 'Technology', '117,385', '37.2%', '71,970', 'Menlo Park, California']\n",
            "['28', 'Comcast', 'Telecommunications', '116,385', '12.4%', '189,000', 'Philadelphia, Pennsylvania']\n",
            "['29', 'Phillips 66', 'Petroleum industry', '114,852', '75.4%', '14,000', 'Houston, Texas']\n",
            "['30', 'Valero Energy', 'Petroleum industry', '108,332', '80.2%', '9,804', 'San Antonio, Texas']\n",
            "['31', 'Dell Technologies', 'Technology', '106,995', '13.6%', '133,000', 'Round Rock, Texas']\n",
            "['32', 'Target Corporation', 'Retail', '106,005', '13.3%', '450,000', 'Minneapolis, Minnesota']\n",
            "['33', 'Fannie Mae', 'Financials', '101,543', '4.6%', '7,400', 'Washington, D.C.']\n",
            "['34', 'United Parcel Service', 'Transportation', '97,287', '15.0%', '400,945', 'Atlanta, Georgia']\n",
            "['35', \"Lowe's\", 'Retail', '96,250', '7.4%', '270,000', 'Mooresville, North Carolina']\n",
            "['36', 'Bank of America', 'Financials', '93,851', '0.1%', '208,248', 'Charlotte, North Carolina']\n",
            "['37', 'Johnson & Johnson', 'Pharmaceutical industry', '93,775', '13.6%', '141,700', 'New Brunswick, New Jersey']\n",
            "['38', 'Archer Daniels Midland', 'Food industry', '85,959', '32.5%', '39,979', 'Chicago, Illinois']\n",
            "['39', 'FedEx', 'Transportation', '83,959', '21.3%', '484,000', 'Memphis, Tennessee']\n",
            "['40', 'Humana', 'Health Insurance', '83,064', '7.7%', '95,500', 'Louisville, Kentucky']\n",
            "['41', 'Wells Fargo', 'Financials', '82,407', '2.6%', '247,848', 'San Francisco, California']\n",
            "['42', 'State Farm', 'Financials', '82,407', '4.2%', '53,586', 'Bloomington, Illinois']\n",
            "['43', 'Pfizer', 'Pharmaceutical industry', '81,288', '94.0%', '79,000', 'New York City, New York']\n",
            "['44', 'Citigroup', 'Financials', '79,865', '10.1%', '221,768', 'New York City, New York']\n",
            "['45', 'PepsiCo', 'Beverage', '79,474', '12.9%', '309,000', 'Purchase, New York']\n",
            "['46', 'Intel', 'Technology', '79,024', '1.5%', '121,100', 'Santa Clara, California']\n",
            "['47', 'Procter & Gamble', 'Consumer products Manufacturing', '76,118', '7.3%', '101,000', 'Cincinnati, Ohio']\n",
            "['48', 'General Electric', 'Conglomerate', '74,196', '6.8%', '168,000', 'Boston, Massachusetts']\n",
            "['49', 'IBM', 'Technology', '72,344', '1.7%', '297,800', 'Armonk, New York']\n",
            "['50', 'MetLife', 'Financials', '71,080', '4.8%', '43,000', 'New York City, New York']\n",
            "['51', 'Prudential Financial', 'Financials', '70,934', '24.4%', '40,916', 'Newark, New Jersey']\n",
            "['52', 'Albertsons', 'Retail', '69,690', '11.6%', '300,000', 'Boise, Idaho']\n",
            "['53', 'The Walt Disney Company', 'Media', '67,418', '3.1%', '171,000', 'Burbank, California']\n",
            "['54', 'Energy Transfer Partners', 'Petroleum industry', '67,418', '73.1%', '12,558', 'Dallas, Texas']\n",
            "['55', 'Lockheed Martin', 'Aerospace and Defense', '67,044', '2.5%', '114,000', 'Bethesda, Maryland']\n",
            "['56', 'Freddie Mac', 'Financials', '65,898', '0.5%', '7,301', 'McLean, Virginia']\n",
            "['57', 'Goldman Sachs', 'Financials', '64,989', '2.7%', '43,900', 'New York City, New York']\n",
            "['58', 'Raytheon Technologies', 'Conglomerate', '64,388', '13.8%', '174,000', 'Waltham, Massachusetts']\n",
            "['59', 'HP', 'Technology', '63,487', '12.1%', '51,000', 'Palo Alto, California']\n",
            "['60', 'Boeing', 'Aerospace and defense', '62,286', '7.1%', '142,000', 'Chicago, Illinois']\n",
            "['61', 'Morgan Stanley', 'Financials', '61,121', '17.4%', '74,814', 'New York City, New York']\n",
            "['62', 'HCA Healthcare', 'Healthcare', '58,752', '14.0%', '244,000', 'Nashville, Tennessee']\n",
            "['63', 'AbbVie', 'Pharmaceutical industry', '56,197', '22.7%', '50,000', 'Lake Bluff, Illinois']\n",
            "['64', 'Dow Chemical Company', 'Chemical industry', '54,968', '42.6%', '35,700', 'Midland, Michigan']\n",
            "['65', 'Tesla', 'Automotive and Energy', '53,823', '70.7%', '99,290', 'Austin, Texas']\n",
            "['66', 'Allstate', 'Insurance', '53,228', '18.8%', '54,500', 'Northfield Township, Cook County, Illinois']\n",
            "['67', 'AIG', 'Insurance', '52,057', '19.0%', '36,600', 'New York City, New York']\n",
            "['68', 'Best Buy', 'Retail', '51,761', '9.5%', '81,375', 'Richfield, Minnesota']\n",
            "['69', 'Charter Communications', 'Telecommunications', '51,682', '7.5%', '93,700', 'Stamford, Connecticut']\n",
            "['70', 'Sysco', 'Food Service', '51,298', '3.0%', '57,710', 'Houston, Texas']\n",
            "['71', 'Merck & Co.', 'Pharmaceutical industry', '51,216', '6.7%', '67,500', 'Kenilworth, New Jersey']\n",
            "['72', 'New York Life Insurance Company', 'Insurance', '51,199', '9.6%', '13,344', 'New York City, New York']\n",
            "['73', 'Novartis', 'Pharmaceuticals', '51,332', '6.0%', '110,000', 'Cambridge, Massachusetts']\n",
            "['74', 'Caterpillar', 'Machinery', '50,971', '22.1%', '107,700', 'Deerfield, Illinois']\n",
            "['75', 'Cisco', 'Telecom Hardware Manufacturing', '49,818', '1.0%', '79,500', 'San Jose, California']\n",
            "['76', 'TJX', 'Retail', '48,550', '51.1%', '340,000', 'Framingham, Massachusetts']\n",
            "['77', 'Publix', 'Retail', '48,394', '7.1%', '232,000', 'Lakeland, Florida']\n",
            "['78', 'ConocoPhillips', 'Petroleum industry', '48,349', '151.1%', '9,900', 'Houston, Texas']\n",
            "['79', 'Liberty Mutual Group', 'Insurance', '48,200', '10.1%', '45,000', 'Boston, Massachusetts']\n",
            "['80', 'Progressive Corporation', 'Insurance', '47,702', '11.8%', '49,077', 'Mayfield Village, Ohio']\n",
            "['81', 'Nationwide Mutual Insurance Company', 'Financial', '47,376', '13.0%', '24,134', 'Columbus, Ohio']\n",
            "['82', 'Tyson Foods', 'Food Processing', '47,049', '8.9%', '137,000', 'Springdale, Arkansas']\n",
            "['83', 'Bristol-Myers Squibb', 'Pharmaceutical industry', '46,385', '9.1%', '32,200', 'New York City, New York']\n",
            "['84', 'GSK plc', 'Pharmaceuticals', '44,700', '3.0%', '97,000', 'Philadelphia, Pennsylvania']\n",
            "['85', 'Nike', 'Apparel', '44,538', '19.1%', '73,300', 'Beaverton, Oregon']\n",
            "['86', 'John Deere', 'Agriculture manufacturing', '44,024', '23.9%', '75,550', 'Moline, Illinois']\n",
            "['87', 'American Express', 'Financial', '43,663', '14.3%', '64,000', 'New York City, New York']\n",
            "['88', 'Abbott Laboratories', 'Medical devices', '43,075', '24.5%', '113,000', 'Chicago, Illinois']\n",
            "['89', 'StoneX Group', 'Financials', '42,534', '21.4%', '3,242', 'New York City, New York']\n",
            "['90', 'Plains All American Pipeline', 'Petroleum industry', '42,078', '80.7%', '4,100', 'Houston, Texas']\n",
            "['91', 'Enterprise Products', 'Petroleum industry', '40,807', '50.0%', '6,911', 'Houston, Texas']\n",
            "['92', 'TIAA', 'Insurance', '40,526', '2.6%', '15,065', 'New York City, New York']\n",
            "['93', 'Oracle Corporation', 'Software', '40,479', '3.6%', '132,000', 'Austin, Texas']\n",
            "['94', 'Thermo Fisher Scientific', 'Laboratory instruments', '39,211', '21.7%', '129,000', 'Waltham, Massachusetts']\n",
            "['95', 'Coca-Cola Company', 'Beverages', '38,655', '17.1%', '79,000', 'Atlanta, Georgia']\n",
            "['96', 'General Dynamics', 'Airspace and defense', '38,469', '8.7%', '103,100', 'Reston, Virginia']\n",
            "['97', 'CHS', 'Agriculture cooperative', '38,448', '1.4%', '9,941', 'Inver Grove Heights, Minnesota']\n",
            "['98', 'USAA', 'Financials', '37,470', '3.2%', '37,335', 'San Antonio, Texas']\n",
            "['99', 'Northwestern Mutual', 'Insurance', '36,751', '8.8%', '7,585', 'Milwaukee, Wisconsin']\n",
            "['100', 'Nucor', 'Metals', '36,484', '81.2%', '28,800', 'Charlotte, North Carolina']\n"
          ]
        }
      ]
    },
    {
      "cell_type": "code",
      "source": [
        "# to make the loop append the df with every iteration:\n",
        "for row in column_data[1:]:\n",
        "  row_data = row.find_all('td')\n",
        "  ind_row_data = [data.text.strip() for data in row_data]\n",
        "\n",
        "  length = len(df)\n",
        "  df.loc[length] = ind_row_data"
      ],
      "metadata": {
        "id": "EnSvx1KZsmUK"
      },
      "execution_count": null,
      "outputs": []
    },
    {
      "cell_type": "code",
      "source": [
        "df\n",
        "# it worked!!!"
      ],
      "metadata": {
        "colab": {
          "base_uri": "https://localhost:8080/",
          "height": 424
        },
        "id": "Jo4zkr9m0M7_",
        "outputId": "05500fda-e271-4780-93eb-8c96dd458d07"
      },
      "execution_count": null,
      "outputs": [
        {
          "output_type": "execute_result",
          "data": {
            "text/plain": [
              "   Rank                 Name                    Industry  \\\n",
              "0     1              Walmart       General merchandisers   \n",
              "1     2               Amazon  Retail and Cloud Computing   \n",
              "2     3                Apple        Electronics industry   \n",
              "3     4           CVS Health                  Healthcare   \n",
              "4     5   UnitedHealth Group                  Healthcare   \n",
              "..  ...                  ...                         ...   \n",
              "95   96     General Dynamics        Airspace and defense   \n",
              "96   97                  CHS     Agriculture cooperative   \n",
              "97   98                 USAA                  Financials   \n",
              "98   99  Northwestern Mutual                   Insurance   \n",
              "99  100                Nucor                      Metals   \n",
              "\n",
              "   Revenue (USD millions) Revenue growth  Employees  \\\n",
              "0                 572,754           2.4%  2,300,000   \n",
              "1                 469,822          21.7%  1,608,000   \n",
              "2                 365,817          33.2%    154,000   \n",
              "3                 292,111          32.0%    258,000   \n",
              "4                 287,597          11.8%    350,000   \n",
              "..                    ...            ...        ...   \n",
              "95                 38,469           8.7%    103,100   \n",
              "96                 38,448           1.4%      9,941   \n",
              "97                 37,470           3.2%     37,335   \n",
              "98                 36,751           8.8%      7,585   \n",
              "99                 36,484          81.2%     28,800   \n",
              "\n",
              "                      Headquarters  \n",
              "0            Bentonville, Arkansas  \n",
              "1              Seattle, Washington  \n",
              "2            Cupertino, California  \n",
              "3         Woonsocket, Rhode Island  \n",
              "4            Minnetonka, Minnesota  \n",
              "..                             ...  \n",
              "95                Reston, Virginia  \n",
              "96  Inver Grove Heights, Minnesota  \n",
              "97              San Antonio, Texas  \n",
              "98            Milwaukee, Wisconsin  \n",
              "99       Charlotte, North Carolina  \n",
              "\n",
              "[100 rows x 7 columns]"
            ],
            "text/html": [
              "\n",
              "\n",
              "  <div id=\"df-786f99ac-bd21-4eb5-9a39-b44e37a9c5c9\">\n",
              "    <div class=\"colab-df-container\">\n",
              "      <div>\n",
              "<style scoped>\n",
              "    .dataframe tbody tr th:only-of-type {\n",
              "        vertical-align: middle;\n",
              "    }\n",
              "\n",
              "    .dataframe tbody tr th {\n",
              "        vertical-align: top;\n",
              "    }\n",
              "\n",
              "    .dataframe thead th {\n",
              "        text-align: right;\n",
              "    }\n",
              "</style>\n",
              "<table border=\"1\" class=\"dataframe\">\n",
              "  <thead>\n",
              "    <tr style=\"text-align: right;\">\n",
              "      <th></th>\n",
              "      <th>Rank</th>\n",
              "      <th>Name</th>\n",
              "      <th>Industry</th>\n",
              "      <th>Revenue (USD millions)</th>\n",
              "      <th>Revenue growth</th>\n",
              "      <th>Employees</th>\n",
              "      <th>Headquarters</th>\n",
              "    </tr>\n",
              "  </thead>\n",
              "  <tbody>\n",
              "    <tr>\n",
              "      <th>0</th>\n",
              "      <td>1</td>\n",
              "      <td>Walmart</td>\n",
              "      <td>General merchandisers</td>\n",
              "      <td>572,754</td>\n",
              "      <td>2.4%</td>\n",
              "      <td>2,300,000</td>\n",
              "      <td>Bentonville, Arkansas</td>\n",
              "    </tr>\n",
              "    <tr>\n",
              "      <th>1</th>\n",
              "      <td>2</td>\n",
              "      <td>Amazon</td>\n",
              "      <td>Retail and Cloud Computing</td>\n",
              "      <td>469,822</td>\n",
              "      <td>21.7%</td>\n",
              "      <td>1,608,000</td>\n",
              "      <td>Seattle, Washington</td>\n",
              "    </tr>\n",
              "    <tr>\n",
              "      <th>2</th>\n",
              "      <td>3</td>\n",
              "      <td>Apple</td>\n",
              "      <td>Electronics industry</td>\n",
              "      <td>365,817</td>\n",
              "      <td>33.2%</td>\n",
              "      <td>154,000</td>\n",
              "      <td>Cupertino, California</td>\n",
              "    </tr>\n",
              "    <tr>\n",
              "      <th>3</th>\n",
              "      <td>4</td>\n",
              "      <td>CVS Health</td>\n",
              "      <td>Healthcare</td>\n",
              "      <td>292,111</td>\n",
              "      <td>32.0%</td>\n",
              "      <td>258,000</td>\n",
              "      <td>Woonsocket, Rhode Island</td>\n",
              "    </tr>\n",
              "    <tr>\n",
              "      <th>4</th>\n",
              "      <td>5</td>\n",
              "      <td>UnitedHealth Group</td>\n",
              "      <td>Healthcare</td>\n",
              "      <td>287,597</td>\n",
              "      <td>11.8%</td>\n",
              "      <td>350,000</td>\n",
              "      <td>Minnetonka, Minnesota</td>\n",
              "    </tr>\n",
              "    <tr>\n",
              "      <th>...</th>\n",
              "      <td>...</td>\n",
              "      <td>...</td>\n",
              "      <td>...</td>\n",
              "      <td>...</td>\n",
              "      <td>...</td>\n",
              "      <td>...</td>\n",
              "      <td>...</td>\n",
              "    </tr>\n",
              "    <tr>\n",
              "      <th>95</th>\n",
              "      <td>96</td>\n",
              "      <td>General Dynamics</td>\n",
              "      <td>Airspace and defense</td>\n",
              "      <td>38,469</td>\n",
              "      <td>8.7%</td>\n",
              "      <td>103,100</td>\n",
              "      <td>Reston, Virginia</td>\n",
              "    </tr>\n",
              "    <tr>\n",
              "      <th>96</th>\n",
              "      <td>97</td>\n",
              "      <td>CHS</td>\n",
              "      <td>Agriculture cooperative</td>\n",
              "      <td>38,448</td>\n",
              "      <td>1.4%</td>\n",
              "      <td>9,941</td>\n",
              "      <td>Inver Grove Heights, Minnesota</td>\n",
              "    </tr>\n",
              "    <tr>\n",
              "      <th>97</th>\n",
              "      <td>98</td>\n",
              "      <td>USAA</td>\n",
              "      <td>Financials</td>\n",
              "      <td>37,470</td>\n",
              "      <td>3.2%</td>\n",
              "      <td>37,335</td>\n",
              "      <td>San Antonio, Texas</td>\n",
              "    </tr>\n",
              "    <tr>\n",
              "      <th>98</th>\n",
              "      <td>99</td>\n",
              "      <td>Northwestern Mutual</td>\n",
              "      <td>Insurance</td>\n",
              "      <td>36,751</td>\n",
              "      <td>8.8%</td>\n",
              "      <td>7,585</td>\n",
              "      <td>Milwaukee, Wisconsin</td>\n",
              "    </tr>\n",
              "    <tr>\n",
              "      <th>99</th>\n",
              "      <td>100</td>\n",
              "      <td>Nucor</td>\n",
              "      <td>Metals</td>\n",
              "      <td>36,484</td>\n",
              "      <td>81.2%</td>\n",
              "      <td>28,800</td>\n",
              "      <td>Charlotte, North Carolina</td>\n",
              "    </tr>\n",
              "  </tbody>\n",
              "</table>\n",
              "<p>100 rows × 7 columns</p>\n",
              "</div>\n",
              "      <button class=\"colab-df-convert\" onclick=\"convertToInteractive('df-786f99ac-bd21-4eb5-9a39-b44e37a9c5c9')\"\n",
              "              title=\"Convert this dataframe to an interactive table.\"\n",
              "              style=\"display:none;\">\n",
              "\n",
              "  <svg xmlns=\"http://www.w3.org/2000/svg\" height=\"24px\"viewBox=\"0 0 24 24\"\n",
              "       width=\"24px\">\n",
              "    <path d=\"M0 0h24v24H0V0z\" fill=\"none\"/>\n",
              "    <path d=\"M18.56 5.44l.94 2.06.94-2.06 2.06-.94-2.06-.94-.94-2.06-.94 2.06-2.06.94zm-11 1L8.5 8.5l.94-2.06 2.06-.94-2.06-.94L8.5 2.5l-.94 2.06-2.06.94zm10 10l.94 2.06.94-2.06 2.06-.94-2.06-.94-.94-2.06-.94 2.06-2.06.94z\"/><path d=\"M17.41 7.96l-1.37-1.37c-.4-.4-.92-.59-1.43-.59-.52 0-1.04.2-1.43.59L10.3 9.45l-7.72 7.72c-.78.78-.78 2.05 0 2.83L4 21.41c.39.39.9.59 1.41.59.51 0 1.02-.2 1.41-.59l7.78-7.78 2.81-2.81c.8-.78.8-2.07 0-2.86zM5.41 20L4 18.59l7.72-7.72 1.47 1.35L5.41 20z\"/>\n",
              "  </svg>\n",
              "      </button>\n",
              "\n",
              "\n",
              "\n",
              "    <div id=\"df-74b27c65-2bf9-4ae7-b119-dd000d778cb7\">\n",
              "      <button class=\"colab-df-quickchart\" onclick=\"quickchart('df-74b27c65-2bf9-4ae7-b119-dd000d778cb7')\"\n",
              "              title=\"Suggest charts.\"\n",
              "              style=\"display:none;\">\n",
              "\n",
              "<svg xmlns=\"http://www.w3.org/2000/svg\" height=\"24px\"viewBox=\"0 0 24 24\"\n",
              "     width=\"24px\">\n",
              "    <g>\n",
              "        <path d=\"M19 3H5c-1.1 0-2 .9-2 2v14c0 1.1.9 2 2 2h14c1.1 0 2-.9 2-2V5c0-1.1-.9-2-2-2zM9 17H7v-7h2v7zm4 0h-2V7h2v10zm4 0h-2v-4h2v4z\"/>\n",
              "    </g>\n",
              "</svg>\n",
              "      </button>\n",
              "    </div>\n",
              "\n",
              "<style>\n",
              "  .colab-df-quickchart {\n",
              "    background-color: #E8F0FE;\n",
              "    border: none;\n",
              "    border-radius: 50%;\n",
              "    cursor: pointer;\n",
              "    display: none;\n",
              "    fill: #1967D2;\n",
              "    height: 32px;\n",
              "    padding: 0 0 0 0;\n",
              "    width: 32px;\n",
              "  }\n",
              "\n",
              "  .colab-df-quickchart:hover {\n",
              "    background-color: #E2EBFA;\n",
              "    box-shadow: 0px 1px 2px rgba(60, 64, 67, 0.3), 0px 1px 3px 1px rgba(60, 64, 67, 0.15);\n",
              "    fill: #174EA6;\n",
              "  }\n",
              "\n",
              "  [theme=dark] .colab-df-quickchart {\n",
              "    background-color: #3B4455;\n",
              "    fill: #D2E3FC;\n",
              "  }\n",
              "\n",
              "  [theme=dark] .colab-df-quickchart:hover {\n",
              "    background-color: #434B5C;\n",
              "    box-shadow: 0px 1px 3px 1px rgba(0, 0, 0, 0.15);\n",
              "    filter: drop-shadow(0px 1px 2px rgba(0, 0, 0, 0.3));\n",
              "    fill: #FFFFFF;\n",
              "  }\n",
              "</style>\n",
              "\n",
              "    <script>\n",
              "      async function quickchart(key) {\n",
              "        const containerElement = document.querySelector('#' + key);\n",
              "        const charts = await google.colab.kernel.invokeFunction(\n",
              "            'suggestCharts', [key], {});\n",
              "      }\n",
              "    </script>\n",
              "\n",
              "      <script>\n",
              "\n",
              "function displayQuickchartButton(domScope) {\n",
              "  let quickchartButtonEl =\n",
              "    domScope.querySelector('#df-74b27c65-2bf9-4ae7-b119-dd000d778cb7 button.colab-df-quickchart');\n",
              "  quickchartButtonEl.style.display =\n",
              "    google.colab.kernel.accessAllowed ? 'block' : 'none';\n",
              "}\n",
              "\n",
              "        displayQuickchartButton(document);\n",
              "      </script>\n",
              "      <style>\n",
              "    .colab-df-container {\n",
              "      display:flex;\n",
              "      flex-wrap:wrap;\n",
              "      gap: 12px;\n",
              "    }\n",
              "\n",
              "    .colab-df-convert {\n",
              "      background-color: #E8F0FE;\n",
              "      border: none;\n",
              "      border-radius: 50%;\n",
              "      cursor: pointer;\n",
              "      display: none;\n",
              "      fill: #1967D2;\n",
              "      height: 32px;\n",
              "      padding: 0 0 0 0;\n",
              "      width: 32px;\n",
              "    }\n",
              "\n",
              "    .colab-df-convert:hover {\n",
              "      background-color: #E2EBFA;\n",
              "      box-shadow: 0px 1px 2px rgba(60, 64, 67, 0.3), 0px 1px 3px 1px rgba(60, 64, 67, 0.15);\n",
              "      fill: #174EA6;\n",
              "    }\n",
              "\n",
              "    [theme=dark] .colab-df-convert {\n",
              "      background-color: #3B4455;\n",
              "      fill: #D2E3FC;\n",
              "    }\n",
              "\n",
              "    [theme=dark] .colab-df-convert:hover {\n",
              "      background-color: #434B5C;\n",
              "      box-shadow: 0px 1px 3px 1px rgba(0, 0, 0, 0.15);\n",
              "      filter: drop-shadow(0px 1px 2px rgba(0, 0, 0, 0.3));\n",
              "      fill: #FFFFFF;\n",
              "    }\n",
              "  </style>\n",
              "\n",
              "      <script>\n",
              "        const buttonEl =\n",
              "          document.querySelector('#df-786f99ac-bd21-4eb5-9a39-b44e37a9c5c9 button.colab-df-convert');\n",
              "        buttonEl.style.display =\n",
              "          google.colab.kernel.accessAllowed ? 'block' : 'none';\n",
              "\n",
              "        async function convertToInteractive(key) {\n",
              "          const element = document.querySelector('#df-786f99ac-bd21-4eb5-9a39-b44e37a9c5c9');\n",
              "          const dataTable =\n",
              "            await google.colab.kernel.invokeFunction('convertToInteractive',\n",
              "                                                     [key], {});\n",
              "          if (!dataTable) return;\n",
              "\n",
              "          const docLinkHtml = 'Like what you see? Visit the ' +\n",
              "            '<a target=\"_blank\" href=https://colab.research.google.com/notebooks/data_table.ipynb>data table notebook</a>'\n",
              "            + ' to learn more about interactive tables.';\n",
              "          element.innerHTML = '';\n",
              "          dataTable['output_type'] = 'display_data';\n",
              "          await google.colab.output.renderOutput(dataTable, element);\n",
              "          const docLink = document.createElement('div');\n",
              "          docLink.innerHTML = docLinkHtml;\n",
              "          element.appendChild(docLink);\n",
              "        }\n",
              "      </script>\n",
              "    </div>\n",
              "  </div>\n"
            ]
          },
          "metadata": {},
          "execution_count": 44
        }
      ]
    },
    {
      "cell_type": "code",
      "source": [
        "# mounting Google Drive\n",
        "from google.colab import drive\n",
        "drive.mount('/content/gdrive')"
      ],
      "metadata": {
        "colab": {
          "base_uri": "https://localhost:8080/"
        },
        "id": "yivM86Ar1Wtx",
        "outputId": "9ac68ae8-e199-4f26-ce97-f519ba24bf55"
      },
      "execution_count": null,
      "outputs": [
        {
          "output_type": "stream",
          "name": "stdout",
          "text": [
            "Mounted at /content/gdrive\n"
          ]
        }
      ]
    },
    {
      "cell_type": "code",
      "source": [
        "# saving results to .csv\n",
        "df.to_csv('/content/gdrive/My Drive/co_lab/wiki100companies.csv', index=False)"
      ],
      "metadata": {
        "id": "k261E2Cj0svK"
      },
      "execution_count": null,
      "outputs": []
    },
    {
      "cell_type": "code",
      "source": [
        "# alternativey - saving .csv directly to local computer\n",
        "from google.colab import files\n",
        "df.to_csv('wiki100companies.csv', encoding = 'utf-8-sig', index=False)\n",
        "files.download('wiki100companies.csv')"
      ],
      "metadata": {
        "colab": {
          "base_uri": "https://localhost:8080/",
          "height": 17
        },
        "id": "qRyQieGB5Zbi",
        "outputId": "52810966-95be-474f-b71e-5e9a3498ac4f"
      },
      "execution_count": 56,
      "outputs": [
        {
          "output_type": "display_data",
          "data": {
            "text/plain": [
              "<IPython.core.display.Javascript object>"
            ],
            "application/javascript": [
              "\n",
              "    async function download(id, filename, size) {\n",
              "      if (!google.colab.kernel.accessAllowed) {\n",
              "        return;\n",
              "      }\n",
              "      const div = document.createElement('div');\n",
              "      const label = document.createElement('label');\n",
              "      label.textContent = `Downloading \"${filename}\": `;\n",
              "      div.appendChild(label);\n",
              "      const progress = document.createElement('progress');\n",
              "      progress.max = size;\n",
              "      div.appendChild(progress);\n",
              "      document.body.appendChild(div);\n",
              "\n",
              "      const buffers = [];\n",
              "      let downloaded = 0;\n",
              "\n",
              "      const channel = await google.colab.kernel.comms.open(id);\n",
              "      // Send a message to notify the kernel that we're ready.\n",
              "      channel.send({})\n",
              "\n",
              "      for await (const message of channel.messages) {\n",
              "        // Send a message to notify the kernel that we're ready.\n",
              "        channel.send({})\n",
              "        if (message.buffers) {\n",
              "          for (const buffer of message.buffers) {\n",
              "            buffers.push(buffer);\n",
              "            downloaded += buffer.byteLength;\n",
              "            progress.value = downloaded;\n",
              "          }\n",
              "        }\n",
              "      }\n",
              "      const blob = new Blob(buffers, {type: 'application/binary'});\n",
              "      const a = document.createElement('a');\n",
              "      a.href = window.URL.createObjectURL(blob);\n",
              "      a.download = filename;\n",
              "      div.appendChild(a);\n",
              "      a.click();\n",
              "      div.remove();\n",
              "    }\n",
              "  "
            ]
          },
          "metadata": {}
        },
        {
          "output_type": "display_data",
          "data": {
            "text/plain": [
              "<IPython.core.display.Javascript object>"
            ],
            "application/javascript": [
              "download(\"download_5d286d76-c8b7-48f7-8d53-a455ab4c38af\", \"wiki100companies.csv\", 7912)"
            ]
          },
          "metadata": {}
        }
      ]
    }
  ]
}